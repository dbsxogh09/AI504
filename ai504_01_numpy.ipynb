{
  "cells": [
    {
      "cell_type": "markdown",
      "metadata": {
        "id": "view-in-github",
        "colab_type": "text"
      },
      "source": [
        "<a href=\"https://colab.research.google.com/github/dbsxogh09/AI504/blob/main/ai504_01_numpy.ipynb\" target=\"_parent\"><img src=\"https://colab.research.google.com/assets/colab-badge.svg\" alt=\"Open In Colab\"/></a>"
      ]
    },
    {
      "cell_type": "code",
      "execution_count": 1,
      "metadata": {
        "id": "KAJ1rrCpauzn"
      },
      "outputs": [],
      "source": [
        "import numpy as np"
      ]
    },
    {
      "cell_type": "code",
      "execution_count": 2,
      "metadata": {
        "id": "sGZdtpTKauzo"
      },
      "outputs": [],
      "source": [
        "def print_obj(obj, name):\n",
        "    print(\"%s:\\n%s\\n\" % (name, obj))\n",
        "\n",
        "def check_each(a, b):\n",
        "    return (a == b).astype('bool')\n",
        "\n",
        "def check_mean(a, b):\n",
        "    return np.mean(a == b).astype('bool')"
      ]
    },
    {
      "cell_type": "markdown",
      "metadata": {
        "id": "T2Zt6bCSauzo"
      },
      "source": [
        "### Scalars, Vectors, Matrices"
      ]
    },
    {
      "cell_type": "code",
      "execution_count": 3,
      "metadata": {
        "id": "_j3G2H2Qauzp"
      },
      "outputs": [],
      "source": [
        "a = np.array(1.)\n",
        "b = np.array([1., 2., 3.])\n",
        "c = np.array([[1., 2., 3.], [4., 5., 6.]])"
      ]
    },
    {
      "cell_type": "code",
      "execution_count": 4,
      "metadata": {
        "id": "zBhNUT_hauzp",
        "colab": {
          "base_uri": "https://localhost:8080/"
        },
        "outputId": "df6f3633-4515-477e-fcc5-93512553d482"
      },
      "outputs": [
        {
          "output_type": "stream",
          "name": "stdout",
          "text": [
            "a:\n",
            "1.0\n",
            "\n",
            "b:\n",
            "[1. 2. 3.]\n",
            "\n",
            "c:\n",
            "[[1. 2. 3.]\n",
            " [4. 5. 6.]]\n",
            "\n"
          ]
        }
      ],
      "source": [
        "print_obj(a, \"a\")\n",
        "print_obj(b, \"b\")\n",
        "print_obj(c, \"c\")"
      ]
    },
    {
      "cell_type": "code",
      "execution_count": 5,
      "metadata": {
        "id": "whR1NdkEauzp",
        "colab": {
          "base_uri": "https://localhost:8080/"
        },
        "outputId": "817ace15-fa96-4d5a-eb2e-ed8649b36efd"
      },
      "outputs": [
        {
          "output_type": "stream",
          "name": "stdout",
          "text": [
            "a.ndim:\n",
            "0\n",
            "\n",
            "b.ndim:\n",
            "1\n",
            "\n",
            "c.ndim:\n",
            "2\n",
            "\n"
          ]
        }
      ],
      "source": [
        "print_obj(a.ndim, \"a.ndim\")\n",
        "print_obj(b.ndim, \"b.ndim\")\n",
        "print_obj(c.ndim, \"c.ndim\")"
      ]
    },
    {
      "cell_type": "code",
      "execution_count": 6,
      "metadata": {
        "id": "Gjn1h8lSauzp",
        "colab": {
          "base_uri": "https://localhost:8080/"
        },
        "outputId": "944936ad-cd67-44f5-830f-5f1e074e7ade"
      },
      "outputs": [
        {
          "output_type": "stream",
          "name": "stdout",
          "text": [
            "a.shape:\n",
            "()\n",
            "\n",
            "b.shape:\n",
            "(3,)\n",
            "\n",
            "c.shape:\n",
            "(2, 3)\n",
            "\n"
          ]
        }
      ],
      "source": [
        "print_obj(a.shape, \"a.shape\")\n",
        "print_obj(b.shape, \"b.shape\")\n",
        "print_obj(c.shape, \"c.shape\")"
      ]
    },
    {
      "cell_type": "markdown",
      "metadata": {
        "id": "4iqFCL8_auzp"
      },
      "source": [
        "### Tensors (N-dimensional array)"
      ]
    },
    {
      "cell_type": "code",
      "execution_count": 7,
      "metadata": {
        "id": "2VXC-IRkauzp"
      },
      "outputs": [],
      "source": [
        "d = np.array([[[1., 2., 3.], [4., 5., 6.]], [[7., 8., 9.], [10., 11., 12.]]])\n",
        "e = np.array([[[[1., 2., 3.], [1., 2., 3.]], [[4., 5., 6.], [4., 5., 6.]]],\n",
        "              [[[7., 8., 9.], [7., 8., 9.]], [[10., 11., 12.], [10., 11., 12.]]]])"
      ]
    },
    {
      "cell_type": "code",
      "execution_count": 8,
      "metadata": {
        "id": "4pdtZcDcauzp",
        "colab": {
          "base_uri": "https://localhost:8080/"
        },
        "outputId": "30d42450-a504-41f7-fbd9-8d3181eacc48"
      },
      "outputs": [
        {
          "output_type": "stream",
          "name": "stdout",
          "text": [
            "d:\n",
            "[[[ 1.  2.  3.]\n",
            "  [ 4.  5.  6.]]\n",
            "\n",
            " [[ 7.  8.  9.]\n",
            "  [10. 11. 12.]]]\n",
            "\n",
            "d.ndim:\n",
            "3\n",
            "\n",
            "d.shape:\n",
            "(2, 2, 3)\n",
            "\n",
            "e:\n",
            "[[[[ 1.  2.  3.]\n",
            "   [ 1.  2.  3.]]\n",
            "\n",
            "  [[ 4.  5.  6.]\n",
            "   [ 4.  5.  6.]]]\n",
            "\n",
            "\n",
            " [[[ 7.  8.  9.]\n",
            "   [ 7.  8.  9.]]\n",
            "\n",
            "  [[10. 11. 12.]\n",
            "   [10. 11. 12.]]]]\n",
            "\n",
            "e.ndim:\n",
            "4\n",
            "\n",
            "e.shape:\n",
            "(2, 2, 2, 3)\n",
            "\n"
          ]
        }
      ],
      "source": [
        "print_obj(d, \"d\")\n",
        "print_obj(d.ndim, \"d.ndim\")\n",
        "print_obj(d.shape, \"d.shape\")\n",
        "\n",
        "print_obj(e, \"e\")\n",
        "print_obj(e.ndim, \"e.ndim\")\n",
        "print_obj(e.shape, \"e.shape\")"
      ]
    },
    {
      "cell_type": "code",
      "execution_count": 9,
      "metadata": {
        "id": "gF_gCSbVauzp",
        "colab": {
          "base_uri": "https://localhost:8080/"
        },
        "outputId": "e065589b-33c7-4d3b-ca12-c4a6581eafe0"
      },
      "outputs": [
        {
          "output_type": "execute_result",
          "data": {
            "text/plain": [
              "(2, 3, 1)"
            ]
          },
          "metadata": {},
          "execution_count": 9
        }
      ],
      "source": [
        "# Quiz: What is the shape of [[[1], [2], [3]], [[4], [5], [6]]]?\n",
        "x=np.array([[[1], [2], [3]], [[4], [5], [6]]])\n",
        "x.shape"
      ]
    },
    {
      "cell_type": "markdown",
      "metadata": {
        "id": "HYtFIXnhauzq"
      },
      "source": [
        "### Defining Numpy arrays"
      ]
    },
    {
      "cell_type": "code",
      "execution_count": 10,
      "metadata": {
        "id": "gTrrhxm2auzq",
        "colab": {
          "base_uri": "https://localhost:8080/"
        },
        "outputId": "7f097220-dad2-46c2-dada-dfe1e9b094d7"
      },
      "outputs": [
        {
          "output_type": "execute_result",
          "data": {
            "text/plain": [
              "array([1., 1., 1., 1., 1., 1., 1., 1., 1., 1.])"
            ]
          },
          "metadata": {},
          "execution_count": 10
        }
      ],
      "source": [
        "a = np.ones(10)\n",
        "a"
      ]
    },
    {
      "cell_type": "code",
      "execution_count": 11,
      "metadata": {
        "id": "F17K3viFauzq",
        "colab": {
          "base_uri": "https://localhost:8080/"
        },
        "outputId": "495ddf6b-b17b-470c-80fa-be1d6ffabe70"
      },
      "outputs": [
        {
          "output_type": "execute_result",
          "data": {
            "text/plain": [
              "array([[0., 0., 0., 0., 0.],\n",
              "       [0., 0., 0., 0., 0.]])"
            ]
          },
          "metadata": {},
          "execution_count": 11
        }
      ],
      "source": [
        "a = np.zeros((2, 5))\n",
        "a"
      ]
    },
    {
      "cell_type": "code",
      "execution_count": 12,
      "metadata": {
        "id": "CxjujHBKauzq",
        "colab": {
          "base_uri": "https://localhost:8080/"
        },
        "outputId": "a4e05704-7706-411e-cc27-392d2078d553"
      },
      "outputs": [
        {
          "output_type": "execute_result",
          "data": {
            "text/plain": [
              "array([[5, 5, 5, 5, 5],\n",
              "       [5, 5, 5, 5, 5]])"
            ]
          },
          "metadata": {},
          "execution_count": 12
        }
      ],
      "source": [
        "a = np.full((2,5), 5)\n",
        "a"
      ]
    },
    {
      "cell_type": "code",
      "execution_count": 13,
      "metadata": {
        "id": "yC0NSF-9auzq",
        "colab": {
          "base_uri": "https://localhost:8080/"
        },
        "outputId": "b294eef2-2b5c-4fde-af0e-9d735487d080"
      },
      "outputs": [
        {
          "output_type": "execute_result",
          "data": {
            "text/plain": [
              "array([[[0.33922186, 0.34505728, 0.15929213, 0.83657243],\n",
              "        [0.24883221, 0.34553906, 0.95044755, 0.28373575],\n",
              "        [0.58699222, 0.5718834 , 0.12517296, 0.27222821]],\n",
              "\n",
              "       [[0.05517531, 0.40818321, 0.92683989, 0.00475923],\n",
              "        [0.60089516, 0.56113931, 0.40677998, 0.6367158 ],\n",
              "        [0.0244662 , 0.23790427, 0.71034667, 0.79561927]]])"
            ]
          },
          "metadata": {},
          "execution_count": 13
        }
      ],
      "source": [
        "a = np.random.random((2, 3, 4))\n",
        "a"
      ]
    },
    {
      "cell_type": "code",
      "execution_count": 14,
      "metadata": {
        "id": "npzHaPL0auzq",
        "colab": {
          "base_uri": "https://localhost:8080/"
        },
        "outputId": "6e02faf1-574c-4d5d-d619-5c87b4d5494b"
      },
      "outputs": [
        {
          "output_type": "execute_result",
          "data": {
            "text/plain": [
              "array([0, 1, 2, 3, 4, 5, 6, 7, 8, 9])"
            ]
          },
          "metadata": {},
          "execution_count": 14
        }
      ],
      "source": [
        "a = np.arange(10)\n",
        "a"
      ]
    },
    {
      "cell_type": "code",
      "execution_count": 15,
      "metadata": {
        "id": "ie4NIEjpauzq",
        "colab": {
          "base_uri": "https://localhost:8080/"
        },
        "outputId": "f69128cc-b4c4-44ab-9d29-10e0a500ce3d"
      },
      "outputs": [
        {
          "output_type": "execute_result",
          "data": {
            "text/plain": [
              "array([0., 1., 2., 3., 4., 5., 6., 7., 8., 9.])"
            ]
          },
          "metadata": {},
          "execution_count": 15
        }
      ],
      "source": [
        "a = np.arange(10).astype(float)\n",
        "a"
      ]
    },
    {
      "cell_type": "code",
      "execution_count": 16,
      "metadata": {
        "id": "kKFgHTJwauzq",
        "colab": {
          "base_uri": "https://localhost:8080/"
        },
        "outputId": "30486254-651b-4d01-b7bc-18ff7a7c4b5c"
      },
      "outputs": [
        {
          "output_type": "execute_result",
          "data": {
            "text/plain": [
              "array([[0, 1],\n",
              "       [2, 3],\n",
              "       [4, 5],\n",
              "       [6, 7],\n",
              "       [8, 9]])"
            ]
          },
          "metadata": {},
          "execution_count": 16
        }
      ],
      "source": [
        "a = np.arange(10).reshape((5,2))\n",
        "a"
      ]
    },
    {
      "cell_type": "code",
      "execution_count": 32,
      "metadata": {
        "id": "vA_wN5iHauzq",
        "colab": {
          "base_uri": "https://localhost:8080/"
        },
        "outputId": "b28ebc1f-e4f0-45fb-985e-b6b6607be91b"
      },
      "outputs": [
        {
          "output_type": "execute_result",
          "data": {
            "text/plain": [
              "array([[[ 0.,  1.],\n",
              "        [ 2.,  3.],\n",
              "        [ 4.,  5.]],\n",
              "\n",
              "       [[ 6.,  7.],\n",
              "        [ 8.,  9.],\n",
              "        [10., 11.]],\n",
              "\n",
              "       [[12., 13.],\n",
              "        [14., 15.],\n",
              "        [16., 17.]],\n",
              "\n",
              "       [[18., 19.],\n",
              "        [20., 21.],\n",
              "        [22., 23.]]], dtype=float16)"
            ]
          },
          "metadata": {},
          "execution_count": 32
        }
      ],
      "source": [
        "# Quiz: Create a 4-by-3-by-2 tensor filled with 0.0 to 23.0\n",
        "x = np.arange(24).reshape((4,3,2)).astype(float)\n",
        "x"
      ]
    },
    {
      "cell_type": "markdown",
      "metadata": {
        "id": "pYVZHt07auzq"
      },
      "source": [
        "### Indexing & Slicing"
      ]
    },
    {
      "cell_type": "code",
      "execution_count": 42,
      "metadata": {
        "id": "S8tSLByCauzq",
        "colab": {
          "base_uri": "https://localhost:8080/"
        },
        "outputId": "53fd4bb4-ecfd-4310-d754-9fce770b16e9"
      },
      "outputs": [
        {
          "output_type": "stream",
          "name": "stdout",
          "text": [
            "a:\n",
            "[0 1 2 3 4 5 6 7 8 9]\n",
            "\n",
            "a[0]:\n",
            "0\n",
            "\n",
            "a[1]:\n",
            "1\n",
            "\n",
            "a[-1]:\n",
            "9\n",
            "\n",
            "a[-3]:\n",
            "7\n",
            "\n",
            "a[-15]:\n",
            "0\n",
            "\n",
            "a[0:10:2]:\n",
            "[0 2 4 6 8]\n",
            "\n",
            "a[0:10:3]:\n",
            "[0 3 6 9]\n",
            "\n",
            "a[2:6:3]:\n",
            "[2 5]\n",
            "\n",
            "a[2:7:3]:\n",
            "[2 5]\n",
            "\n",
            "a[-1:1:3]:\n",
            "[9 6 3]\n",
            "\n"
          ]
        }
      ],
      "source": [
        "# Indexing and slicing a vector\n",
        "a = np.arange(10)\n",
        "print_obj(a, \"a\")\n",
        "\n",
        "print_obj(a[0], \"a[0]\")\n",
        "print_obj(a[1], \"a[1]\")\n",
        "print_obj(a[-1], \"a[-1]\")\n",
        "print_obj(a[-3], \"a[-3]\")\n",
        "print_obj(a[-10], \"a[-15]\")\n",
        "\n",
        "#print_obj(a[0:10], \"a[0:10]\")\n",
        "#print_obj(a[0:], \"a[0:]\")\n",
        "#print_obj(a[:10], \"a[:10]\")\n",
        "#print_obj(a[:], \"a[:]\")\n",
        "\n",
        "#print_obj(a[7:], \"a[7:]\")\n",
        "#print_obj(a[:5], \"a[:5]\")\n",
        "#print_obj(a[2:5], \"a[2:5]\")\n",
        "\n",
        "# Quiz: What is a[-4:]?\n",
        "# Quiz: What is a[:-8]?\n",
        "\n",
        "print_obj(a[0:10:2], \"a[0:10:2]\")\n",
        "print_obj(a[0:10:3], \"a[0:10:3]\")\n",
        "print_obj(a[2:6:3], \"a[2:6:3]\")\n",
        "print_obj(a[2:7:3], \"a[2:7:3]\")\n",
        "\n",
        "#print_obj(a[::-1], \"a[::-1]\")\n",
        "#print_obj(a[8:5:-1], \"a[8:5:-1]\")\n",
        "#print_obj(a[8:5], \"a[8:5]\")\n",
        "\n",
        "print_obj(a[-1:1:-3],\"a[-1:1:3]\")\n",
        "# Quiz: Create [9, 6, 3] using a."
      ]
    },
    {
      "cell_type": "code",
      "execution_count": 54,
      "metadata": {
        "id": "bD13t4iEauzr",
        "colab": {
          "base_uri": "https://localhost:8080/"
        },
        "outputId": "19b7e28d-d66c-411e-9aab-7264471f24fb"
      },
      "outputs": [
        {
          "output_type": "stream",
          "name": "stdout",
          "text": [
            "a:\n",
            "[[0 1 2]\n",
            " [3 4 5]\n",
            " [6 7 8]]\n",
            "\n",
            "a[0][0]:\n",
            "0\n",
            "\n",
            "a[0,0]:\n",
            "0\n",
            "\n",
            "a[1,1]:\n",
            "4\n",
            "\n",
            "a[-1:]:\n",
            "[[6 7 8]]\n",
            "\n",
            "a[:1]:\n",
            "[[0 1 2]]\n",
            "\n",
            ":\n",
            "[8 5]\n",
            "\n"
          ]
        }
      ],
      "source": [
        "# Indexing a matrix\n",
        "a = np.arange(9).reshape((3,3))\n",
        "print_obj(a, \"a\")\n",
        "print_obj(a[0][0], \"a[0][0]\")\n",
        "print_obj(a[0,0], \"a[0,0]\")\n",
        "print_obj(a[1,1], \"a[1,1]\")\n",
        "\n",
        "# Quiz: How to access the last row?\n",
        "print_obj(a[-1:],\"a[-1:]\")\n",
        "# Quiz: How to access the second column?\n",
        "print_obj(a[:1],\"a[:1]\")\n",
        "# Quiz: How to create [8, 5] using a?\n",
        "print_obj(a[-1:0:-1,-1],\"\")"
      ]
    },
    {
      "cell_type": "code",
      "execution_count": 67,
      "metadata": {
        "id": "29gtF8Csauzr",
        "colab": {
          "base_uri": "https://localhost:8080/"
        },
        "outputId": "ce9815f9-f91e-4cd2-dba4-2ef4e11e29e7"
      },
      "outputs": [
        {
          "output_type": "stream",
          "name": "stdout",
          "text": [
            "a:\n",
            "[[[ 0  1]\n",
            "  [ 2  3]\n",
            "  [ 4  5]]\n",
            "\n",
            " [[ 6  7]\n",
            "  [ 8  9]\n",
            "  [10 11]]\n",
            "\n",
            " [[12 13]\n",
            "  [14 15]\n",
            "  [16 17]]\n",
            "\n",
            " [[18 19]\n",
            "  [20 21]\n",
            "  [22 23]]]\n",
            "\n",
            "a[2, 1, 0]:\n",
            "14\n",
            "\n",
            ":\n",
            "[[[ 0  2  4]\n",
            "  [ 6  8 10]]]\n",
            "\n"
          ]
        }
      ],
      "source": [
        "# Indexing and slicing a 3D tensor\n",
        "a = np.arange(4*3*2).reshape((4, 3, 2))\n",
        "print_obj(a, \"a\")\n",
        "print_obj(a[2, 1, 0], \"a[2, 1, 0]\")\n",
        "\n",
        "# Quiz: What would be a[0]?\n",
        "# Quiz: What would be a[0, 1]?\n",
        "# Quiz: Create [[0, 2, 4], [6, 8, 10]]\n",
        "print_obj(a[0:2,:,0],\"\")"
      ]
    },
    {
      "cell_type": "code",
      "execution_count": 68,
      "metadata": {
        "id": "PrwK-rpUauzr",
        "colab": {
          "base_uri": "https://localhost:8080/"
        },
        "outputId": "e40db65f-2882-499b-f607-9e28011762d0"
      },
      "outputs": [
        {
          "output_type": "stream",
          "name": "stdout",
          "text": [
            "a:\n",
            "[[0 1]\n",
            " [2 3]\n",
            " [4 5]]\n",
            "\n",
            "idx:\n",
            "[[ True False]\n",
            " [ True False]\n",
            " [ True False]]\n",
            "\n",
            "a[idx]:\n",
            "[0 2 4]\n",
            "\n",
            "a[idx]:\n",
            "[3 4 5]\n",
            "\n"
          ]
        }
      ],
      "source": [
        "# Conditional indexing\n",
        "a = np.arange(3*2).reshape((3,2))\n",
        "print_obj(a, \"a\")\n",
        "\n",
        "idx = a % 2 == 0\n",
        "print_obj(idx, \"idx\")\n",
        "\n",
        "print_obj(a[idx],\"a[idx]\")\n",
        "\n",
        "idx = a > 2\n",
        "print_obj(a[idx],\"a[idx]\")\n",
        "\n",
        "# Quiz: How would you create [3, 4, 5] using a?"
      ]
    },
    {
      "cell_type": "code",
      "execution_count": null,
      "metadata": {
        "id": "9KieCF8Dauzr"
      },
      "outputs": [],
      "source": [
        "# Taking specific elements from a vector\n",
        "a = np.arange(10)\n",
        "idx = [0, 2, 3]\n",
        "print_obj(a[idx], \"a[idx]\")"
      ]
    },
    {
      "cell_type": "code",
      "execution_count": null,
      "metadata": {
        "id": "d3xnhS6Kauzr"
      },
      "outputs": [],
      "source": [
        "# Taking specific elements from a tensor\n",
        "a = np.arange(24).reshape((6,4))\n",
        "print_obj(a, \"a\")\n",
        "\n",
        "print_obj(a[:,[0, 2, 3]], \"a[idx]\")\n",
        "print_obj(a[[0, 2, 3], :], \"a[idx]\")\n",
        "#idx = ((0,0,1,5),(1,2,0,3))\n",
        "#print_obj(a[idx], \"tuple indexing\")\n",
        "#idx = np.array([[0,0,1,5],[1,2,0,3]])\n",
        "#print_obj(a[idx], \"ndarray indexing\")"
      ]
    },
    {
      "cell_type": "code",
      "source": [
        "# Ellipsis\n",
        "#a = np.arange(288).reshape((2,3,2,2,4,-1))\n",
        "#print_obj(a.shape, \"a.shape\")\n",
        "\n",
        "#print_obj(a[1,:,:,:,:,2], \"Plain indexing\")\n",
        "#print_obj(a[1,...,2], \"Ellipsis\")\n",
        "\n",
        "a = np.arange(20).reshape((2,2,5))\n",
        "print_obj(a, \"a\")\n",
        "print_obj(a.shape, \"a.shape\")\n",
        "print_obj(a[1,:,2], \"Plain indexing\")\n",
        "print_obj(a[1,...,2], \"Ellipsis\")"
      ],
      "metadata": {
        "id": "PSN-v2S1lPUZ",
        "colab": {
          "base_uri": "https://localhost:8080/"
        },
        "outputId": "f321c5e0-1c86-4386-87e8-8f13dd40932e"
      },
      "execution_count": 73,
      "outputs": [
        {
          "output_type": "stream",
          "name": "stdout",
          "text": [
            "a:\n",
            "[[[ 0  1  2  3  4]\n",
            "  [ 5  6  7  8  9]]\n",
            "\n",
            " [[10 11 12 13 14]\n",
            "  [15 16 17 18 19]]]\n",
            "\n",
            "a.shape:\n",
            "(2, 2, 5)\n",
            "\n",
            "Plain indexing:\n",
            "[12 17]\n",
            "\n",
            "Ellipsis:\n",
            "[12 17]\n",
            "\n"
          ]
        }
      ]
    },
    {
      "cell_type": "markdown",
      "metadata": {
        "id": "QWgT3Q4Yauzr"
      },
      "source": [
        "### Math Operations"
      ]
    },
    {
      "cell_type": "code",
      "execution_count": 76,
      "metadata": {
        "id": "7aIvGef4auzr",
        "colab": {
          "base_uri": "https://localhost:8080/"
        },
        "outputId": "3e175708-3a48-4731-acac-176702b7cb05"
      },
      "outputs": [
        {
          "output_type": "stream",
          "name": "stdout",
          "text": [
            "a:\n",
            "[[0 1]\n",
            " [2 3]\n",
            " [4 5]]\n",
            "\n",
            "b:\n",
            "[[1. 1.]\n",
            " [1. 1.]\n",
            " [1. 1.]]\n",
            "\n",
            "a+b:\n",
            "[[1. 2.]\n",
            " [3. 4.]\n",
            " [5. 6.]]\n",
            "\n",
            "a-b:\n",
            "[[-1.  0.]\n",
            " [ 1.  2.]\n",
            " [ 3.  4.]]\n",
            "\n",
            "a*b:\n",
            "[[0. 1.]\n",
            " [2. 3.]\n",
            " [4. 5.]]\n",
            "\n",
            "a/b:\n",
            "[[0. 1.]\n",
            " [2. 3.]\n",
            " [4. 5.]]\n",
            "\n"
          ]
        }
      ],
      "source": [
        "# Basic operations\n",
        "a = np.arange(6).reshape((3, 2))\n",
        "b = np.ones((3, 2))\n",
        "print_obj(a, \"a\")\n",
        "print_obj(b, \"b\")\n",
        "\n",
        "# +, -, *, /\n",
        "print_obj(a+b, \"a+b\")\n",
        "print_obj(a-b, \"a-b\")\n",
        "print_obj(a*b, \"a*b\")\n",
        "print_obj(a/b, \"a/b\")"
      ]
    },
    {
      "cell_type": "code",
      "execution_count": 80,
      "metadata": {
        "id": "6_nBg_mKauzr",
        "colab": {
          "base_uri": "https://localhost:8080/"
        },
        "outputId": "ebbae5ee-6e30-43fd-af03-ef460ae59b5b"
      },
      "outputs": [
        {
          "output_type": "stream",
          "name": "stdout",
          "text": [
            "a:\n",
            "[[0 1]\n",
            " [2 3]\n",
            " [4 5]]\n",
            "\n",
            "a.sum():\n",
            "15\n",
            "\n",
            "a.sum(axis=0):\n",
            "[6 9]\n",
            "\n",
            "a.sum(axis=1):\n",
            "[1 5 9]\n",
            "\n",
            "a.mean():\n",
            "2.5\n",
            "\n",
            "a.mean(axis=0):\n",
            "[2. 3.]\n",
            "\n",
            "a.max():\n",
            "5\n",
            "\n",
            "a.min():\n",
            "0\n",
            "\n"
          ]
        }
      ],
      "source": [
        "# Unary operations\n",
        "a = np.arange(6).reshape((3,2))\n",
        "print_obj(a, \"a\")\n",
        "\n",
        "print_obj(a.sum(), \"a.sum()\")\n",
        "print_obj(a.sum(axis=0), \"a.sum(axis=0)\")\n",
        "print_obj(a.sum(axis=1), \"a.sum(axis=1)\")\n",
        "\n",
        "print_obj(a.mean(), \"a.mean()\")\n",
        "print_obj(a.mean(axis=0), \"a.mean(axis=0)\")\n",
        "\n",
        "print_obj(a.max(), \"a.max()\")\n",
        "print_obj(a.min(), \"a.min()\")\n",
        "\n",
        "# Quiz: Given a = np.arange(24).reshape((2,3,4)), what is the mean of the sum w.r.t to the last dimension?"
      ]
    },
    {
      "cell_type": "code",
      "execution_count": 81,
      "metadata": {
        "id": "pr8uosCxauzr",
        "colab": {
          "base_uri": "https://localhost:8080/"
        },
        "outputId": "8d130f98-1c8f-4285-cb0b-30164d0ea930"
      },
      "outputs": [
        {
          "output_type": "stream",
          "name": "stdout",
          "text": [
            "a:\n",
            "[0. 1. 2.]\n",
            "\n",
            "b:\n",
            "[1. 1. 1.]\n",
            "\n",
            "a dot b:\n",
            "3.0\n",
            "\n"
          ]
        }
      ],
      "source": [
        "# Vector dot product\n",
        "a = np.arange(3).astype('float')\n",
        "b = np.ones(3)\n",
        "print_obj(a, \"a\")\n",
        "print_obj(b, \"b\")\n",
        "\n",
        "print_obj(np.dot(a, b), \"a dot b\")"
      ]
    },
    {
      "cell_type": "code",
      "execution_count": 82,
      "metadata": {
        "id": "TPHTXs5oauzr",
        "colab": {
          "base_uri": "https://localhost:8080/"
        },
        "outputId": "7ddc2a9b-9351-4671-d9aa-a27ed3fd0852"
      },
      "outputs": [
        {
          "output_type": "stream",
          "name": "stdout",
          "text": [
            "a:\n",
            "[[0 1]\n",
            " [2 3]\n",
            " [4 5]]\n",
            "\n",
            "b:\n",
            "[[1. 1. 1.]\n",
            " [1. 1. 1.]]\n",
            "\n",
            "a dot b:\n",
            "[[1. 1. 1.]\n",
            " [5. 5. 5.]\n",
            " [9. 9. 9.]]\n",
            "\n",
            "a @ b:\n",
            "[[1. 1. 1.]\n",
            " [5. 5. 5.]\n",
            " [9. 9. 9.]]\n",
            "\n"
          ]
        }
      ],
      "source": [
        "# Matrix dot product, matrix multiplication\n",
        "a = np.arange(6).reshape((3, 2))\n",
        "b = np.ones((2, 3))\n",
        "print_obj(a, \"a\")\n",
        "print_obj(b, \"b\")\n",
        "\n",
        "print_obj(np.dot(a,b), \"a dot b\")\n",
        "print_obj(a@b, \"a @ b\")"
      ]
    },
    {
      "cell_type": "code",
      "execution_count": 83,
      "metadata": {
        "id": "8ukdh-T6auzr",
        "colab": {
          "base_uri": "https://localhost:8080/"
        },
        "outputId": "e05dc339-2b73-4045-eeb6-4a2e338e7f57"
      },
      "outputs": [
        {
          "output_type": "stream",
          "name": "stdout",
          "text": [
            "a:\n",
            "[[[ 0  1]\n",
            "  [ 2  3]\n",
            "  [ 4  5]]\n",
            "\n",
            " [[ 6  7]\n",
            "  [ 8  9]\n",
            "  [10 11]]\n",
            "\n",
            " [[12 13]\n",
            "  [14 15]\n",
            "  [16 17]]\n",
            "\n",
            " [[18 19]\n",
            "  [20 21]\n",
            "  [22 23]]]\n",
            "\n",
            "b:\n",
            "[[[1. 1. 1.]\n",
            "  [1. 1. 1.]]\n",
            "\n",
            " [[1. 1. 1.]\n",
            "  [1. 1. 1.]]\n",
            "\n",
            " [[1. 1. 1.]\n",
            "  [1. 1. 1.]]\n",
            "\n",
            " [[1. 1. 1.]\n",
            "  [1. 1. 1.]]]\n",
            "\n",
            "a dot b:\n",
            "(4, 3, 4, 3)\n",
            "\n",
            "a @ b:\n",
            "(4, 3, 3)\n",
            "\n"
          ]
        }
      ],
      "source": [
        "# Tensor dot product, tensor multiplication\n",
        "# in general, tensor represents 4 * (3,2) matrices (4 is also can be interpreted as batch dimension)\n",
        "# mostly, not using dot product for higher order dimensions\n",
        "a = np.arange(24).reshape((4, 3, 2))\n",
        "b = np.ones((4, 2, 3))\n",
        "print_obj(a, \"a\")\n",
        "print_obj(b, \"b\")\n",
        "\n",
        "print_obj(np.dot(a,b).shape, \"a dot b\")\n",
        "print_obj((a@b).shape, \"a @ b\")\n",
        "\n",
        "# Quiz: what would happen if a.shape==(4,3,2) and b.shape==(2,3)?"
      ]
    },
    {
      "cell_type": "markdown",
      "metadata": {
        "id": "bfXb-wX5auzr"
      },
      "source": [
        "### Shape Manipulation"
      ]
    },
    {
      "cell_type": "code",
      "execution_count": 85,
      "metadata": {
        "id": "Jhm8SDVoauzs",
        "colab": {
          "base_uri": "https://localhost:8080/"
        },
        "outputId": "1b6df623-e3f2-4055-8991-c3f7ee9d735f"
      },
      "outputs": [
        {
          "output_type": "stream",
          "name": "stdout",
          "text": [
            "a:\n",
            "[[[ 0  1  2  3]\n",
            "  [ 4  5  6  7]\n",
            "  [ 8  9 10 11]]\n",
            "\n",
            " [[12 13 14 15]\n",
            "  [16 17 18 19]\n",
            "  [20 21 22 23]]]\n",
            "\n",
            "b:\n",
            "[[ 0  1  2  3]\n",
            " [ 4  5  6  7]\n",
            " [ 8  9 10 11]\n",
            " [12 13 14 15]\n",
            " [16 17 18 19]\n",
            " [20 21 22 23]]\n",
            "\n",
            "c:\n",
            "[[ 0  1  2  3]\n",
            " [ 4  5  6  7]\n",
            " [ 8  9 10 11]\n",
            " [12 13 14 15]\n",
            " [16 17 18 19]\n",
            " [20 21 22 23]]\n",
            "\n",
            "d:\n",
            "[[[ 0]\n",
            "  [ 1]\n",
            "  [ 2]\n",
            "  [ 3]]\n",
            "\n",
            " [[ 4]\n",
            "  [ 5]\n",
            "  [ 6]\n",
            "  [ 7]]\n",
            "\n",
            " [[ 8]\n",
            "  [ 9]\n",
            "  [10]\n",
            "  [11]]\n",
            "\n",
            " [[12]\n",
            "  [13]\n",
            "  [14]\n",
            "  [15]]\n",
            "\n",
            " [[16]\n",
            "  [17]\n",
            "  [18]\n",
            "  [19]]\n",
            "\n",
            " [[20]\n",
            "  [21]\n",
            "  [22]\n",
            "  [23]]]\n",
            "\n"
          ]
        }
      ],
      "source": [
        "# Reshapes\n",
        "# can omit using -1. (2,3,-1) is simply interpreted as (2,3,4)\n",
        "a = np.arange(24).reshape((2, 3, 4))\n",
        "print_obj(a, \"a\")\n",
        "\n",
        "b = a.reshape((6, 4))\n",
        "print_obj(b, \"b\")\n",
        "\n",
        "c = a.reshape((6, -1))\n",
        "print_obj(c, \"c\")\n",
        "\n",
        "d = a.reshape((6, 4,-1))\n",
        "print_obj(d, \"d\")\n",
        "\n",
        "# Quiz: What would d=a.reshape((6, 4, -1)) look like?"
      ]
    },
    {
      "cell_type": "code",
      "execution_count": 91,
      "metadata": {
        "id": "WIs2MWd6auzs",
        "colab": {
          "base_uri": "https://localhost:8080/"
        },
        "outputId": "ded12450-d791-468d-f66c-d8f05c7ed690"
      },
      "outputs": [
        {
          "output_type": "stream",
          "name": "stdout",
          "text": [
            "a:\n",
            "[0 1 2]\n",
            "\n",
            "a[:, None]:\n",
            "[[0]\n",
            " [1]\n",
            " [2]]\n",
            "\n",
            "a[:, None,None, :]:\n",
            "[[[[1. 1. 1. 1.]]]\n",
            "\n",
            "\n",
            " [[[1. 1. 1. 1.]]]\n",
            "\n",
            "\n",
            " [[[1. 1. 1. 1.]]]]\n",
            "\n"
          ]
        }
      ],
      "source": [
        "# Adding an extra dimension\n",
        "# None gives extra dimension\n",
        "a = np.arange(3)\n",
        "print_obj(a, \"a\")\n",
        "\n",
        "print_obj(a[:, None], \"a[:, None]\")\n",
        "\n",
        "# Quiz: How to make a = np.ones((3,4)) into shape (3, 1, 1, 4) using reshape and None?\n",
        "a = np.ones((3,4))\n",
        "print_obj(a[:, None,None, :], \"a[:, None,None, :]\")"
      ]
    },
    {
      "cell_type": "code",
      "execution_count": 92,
      "metadata": {
        "id": "PHsTIJcYauzs",
        "colab": {
          "base_uri": "https://localhost:8080/"
        },
        "outputId": "982b5199-a521-4fb4-c73e-fd5e83a7a745"
      },
      "outputs": [
        {
          "output_type": "stream",
          "name": "stdout",
          "text": [
            "a:\n",
            "[[1. 1.]\n",
            " [1. 1.]\n",
            " [1. 1.]]\n",
            "\n",
            "b:\n",
            "[[0. 0.]\n",
            " [0. 0.]\n",
            " [0. 0.]]\n",
            "\n",
            "a,b vstack:\n",
            "[[1. 1.]\n",
            " [1. 1.]\n",
            " [1. 1.]\n",
            " [0. 0.]\n",
            " [0. 0.]\n",
            " [0. 0.]]\n",
            "\n",
            "a,b hstack:\n",
            "[[1. 1. 0. 0.]\n",
            " [1. 1. 0. 0.]\n",
            " [1. 1. 0. 0.]]\n",
            "\n",
            "a,b hstack:\n",
            "[[1. 1. 0. 0. 1. 1.]\n",
            " [1. 1. 0. 0. 1. 1.]\n",
            " [1. 1. 0. 0. 1. 1.]]\n",
            "\n",
            "a,b concat axis=0:\n",
            "[[1. 1.]\n",
            " [1. 1.]\n",
            " [1. 1.]\n",
            " [0. 0.]\n",
            " [0. 0.]\n",
            " [0. 0.]]\n",
            "\n",
            "a,b concat axis=1:\n",
            "[[1. 1. 0. 0.]\n",
            " [1. 1. 0. 0.]\n",
            " [1. 1. 0. 0.]]\n",
            "\n"
          ]
        }
      ],
      "source": [
        "# Stack, concatenation\n",
        "a = np.ones((3,2))\n",
        "b = np.zeros((3,2))\n",
        "print_obj(a, \"a\")\n",
        "print_obj(b, \"b\")\n",
        "\n",
        "print_obj(np.vstack([a, b]), \"a,b vstack\")\n",
        "print_obj(np.hstack([a, b]), \"a,b hstack\")\n",
        "print_obj(np.hstack([a, b, a]), \"a,b hstack\")\n",
        "\n",
        "print_obj(np.concatenate([a, b], axis=0), \"a,b concat axis=0\")\n",
        "print_obj(np.concatenate([a, b], axis=1), \"a,b concat axis=1\")\n",
        "\n",
        "# Quiz: Would concatenating two tensors whose shapes are (4, 3, 2) and (5, 4, 2) on axis=2 work?\n",
        "# No, first two sizes are not matched"
      ]
    },
    {
      "cell_type": "code",
      "execution_count": 93,
      "metadata": {
        "id": "oB3csHX9auzs",
        "colab": {
          "base_uri": "https://localhost:8080/"
        },
        "outputId": "8406e347-05d4-4963-cf74-80cef1ff18a3"
      },
      "outputs": [
        {
          "output_type": "stream",
          "name": "stdout",
          "text": [
            "a:\n",
            "[[0 1]\n",
            " [2 3]\n",
            " [4 5]]\n",
            "\n",
            "a.T:\n",
            "[[0 2 4]\n",
            " [1 3 5]]\n",
            "\n"
          ]
        }
      ],
      "source": [
        "# Matrix transpose\n",
        "a = np.arange(6).reshape((3, 2))\n",
        "print_obj(a, \"a\")\n",
        "\n",
        "print_obj(a.T, \"a.T\")"
      ]
    },
    {
      "cell_type": "code",
      "execution_count": null,
      "metadata": {
        "id": "_QTVPk9Rauzs"
      },
      "outputs": [],
      "source": [
        "# Tensor transpose\n",
        "a = np.arange(24).reshape((4, 3, 2))\n",
        "print_obj(a, \"a\")\n",
        "\n",
        "b = np.transpose(a, [0, 2, 1])\n",
        "print_obj(b, \"Swap axis 1 and 2\")\n",
        "print_obj(b.shape, \"b's shape\")\n",
        "\n",
        "c = np.transpose(a, [1, 0, 2])\n",
        "print_obj(c, \"Swap axis 0 and 1\")\n",
        "print_obj(c.shape, \"c's shape\")"
      ]
    },
    {
      "cell_type": "markdown",
      "metadata": {
        "id": "lAhTkHeLauzt"
      },
      "source": [
        "### Broadcasting"
      ]
    },
    {
      "cell_type": "code",
      "execution_count": null,
      "metadata": {
        "id": "wNEuAdQmauzt"
      },
      "outputs": [],
      "source": [
        "# Vector and scalar\n",
        "a = np.arange(3)\n",
        "b = 2.\n",
        "print_obj(a, \"a\")\n",
        "\n",
        "print_obj(a+b, \"a+b\")\n",
        "print_obj(a-b, \"a-b\")\n",
        "print_obj(a*b, \"a*b\")\n",
        "print_obj(a/b, \"a/b\")"
      ]
    },
    {
      "cell_type": "code",
      "execution_count": null,
      "metadata": {
        "id": "acxUC_tbauzt"
      },
      "outputs": [],
      "source": [
        "# Matrix and vector\n",
        "a = np.arange(6).reshape((3,2))\n",
        "b = np.arange(2).reshape(2) + 1\n",
        "print_obj(a, \"a\")\n",
        "print_obj(b, \"b\")\n",
        "\n",
        "print_obj(a+b, \"a+b\")\n",
        "\n",
        "# Quiz: What would happen if b were np.arange(2).reshape((2, 1))? How about np.arange(2).reshape((1, 2))?\n",
        "# First one is not working, broadcasting condition is not met while the second one is working"
      ]
    },
    {
      "cell_type": "code",
      "execution_count": 94,
      "metadata": {
        "id": "9fYCpXWxauzt",
        "colab": {
          "base_uri": "https://localhost:8080/"
        },
        "outputId": "e1395b76-592a-4cfb-861a-58448c64e080"
      },
      "outputs": [
        {
          "output_type": "stream",
          "name": "stdout",
          "text": [
            "a:\n",
            "[[[ 0  1]\n",
            "  [ 2  3]\n",
            "  [ 4  5]]\n",
            "\n",
            " [[ 6  7]\n",
            "  [ 8  9]\n",
            "  [10 11]]]\n",
            "\n",
            "b:\n",
            "[[0 1]\n",
            " [2 3]\n",
            " [4 5]]\n",
            "\n",
            "a+b:\n",
            "[[[ 0  2]\n",
            "  [ 4  6]\n",
            "  [ 8 10]]\n",
            "\n",
            " [[ 6  8]\n",
            "  [10 12]\n",
            "  [14 16]]]\n",
            "\n"
          ]
        }
      ],
      "source": [
        "# Tensor and matrix\n",
        "# b=np.arange(3) does not meet the broadcasting condition! last dimensions should match\n",
        "a = np.arange(12).reshape((2,3,2))\n",
        "b = np.arange(6).reshape((3,2))\n",
        "print_obj(a, \"a\")\n",
        "print_obj(b, \"b\")\n",
        "\n",
        "print_obj(a+b, \"a+b\")\n",
        "\n",
        "#Quiz: How can we use None to do a+b?"
      ]
    },
    {
      "cell_type": "markdown",
      "metadata": {
        "id": "BPr0Tff7auzt"
      },
      "source": [
        "### Final Quiz"
      ]
    },
    {
      "cell_type": "code",
      "execution_count": 146,
      "metadata": {
        "id": "LzZUwykqauzt"
      },
      "outputs": [],
      "source": [
        "def sigmoid(x):\n",
        "    return 1./(1. + np.exp(-x))\n",
        "\n",
        "# Define a function that, given M of shape (m,n) and W of shape (4n, n), executes the following (assume m is an even number):\n",
        "# - Take the first half rows of M\n",
        "# - Take the second half rows of M\n",
        "# - Take the odd-numbered rows of M\n",
        "# - Take the even-numbered rows of M\n",
        "# - Append them horizontally in the listed order so that you obtain a matrix X of shape (?, 4n)\n",
        "# - Linearly transform X with W so that you obtain a matrix Y of shape (?, ?)\n",
        "# - Put Y through the sigmoid function\n",
        "# - Obtain the sum of the mean of each column\n",
        "def foo(M, W):\n",
        "    (m,n) = M.shape\n",
        "    print_obj(m,\"m\")\n",
        "    print_obj(n,\"n\")\n",
        "    a = M[:int(m/2),:]\n",
        "    print_obj(a,\"a\")\n",
        "    b = M[int(m/2):,:]\n",
        "    print_obj(b,\"b\")\n",
        "    c = M[1::2,:]\n",
        "    print_obj(c,\"c\")\n",
        "    d = M[::2,:]\n",
        "    print_obj(d,\"d\")\n",
        "\n",
        "\n",
        "    X = np.hstack([a,b,c,d])\n",
        "    print_obj(X,\"X\")\n",
        "\n",
        "    Y =  np.dot(X,W)\n",
        "    print_obj(Y,\"Y\")\n",
        "\n",
        "    Z = sigmoid(Y)\n",
        "    col_mean = Z.mean(axis=0)\n",
        "    print_obj(col_mean,\"col_mean\")\n",
        "\n",
        "\n",
        "    return col_mean.sum()\n",
        "    # return 0."
      ]
    },
    {
      "cell_type": "code",
      "source": [
        "M = (np.arange(60).reshape((20,3)).astype('float') - 10.) / 10\n",
        "W = np.arange(36).reshape(12,3).astype('float') / 10.\n",
        "\n",
        "foo(M,W)"
      ],
      "metadata": {
        "colab": {
          "base_uri": "https://localhost:8080/"
        },
        "id": "5U1Zv9nxQhCM",
        "outputId": "50b3c0f3-a75a-48b4-b261-5f44d382c917"
      },
      "execution_count": 147,
      "outputs": [
        {
          "output_type": "stream",
          "name": "stdout",
          "text": [
            "m:\n",
            "20\n",
            "\n",
            "n:\n",
            "3\n",
            "\n",
            "a:\n",
            "[[-1.  -0.9 -0.8]\n",
            " [-0.7 -0.6 -0.5]\n",
            " [-0.4 -0.3 -0.2]\n",
            " [-0.1  0.   0.1]\n",
            " [ 0.2  0.3  0.4]\n",
            " [ 0.5  0.6  0.7]\n",
            " [ 0.8  0.9  1. ]\n",
            " [ 1.1  1.2  1.3]\n",
            " [ 1.4  1.5  1.6]\n",
            " [ 1.7  1.8  1.9]]\n",
            "\n",
            "b:\n",
            "[[2.  2.1 2.2]\n",
            " [2.3 2.4 2.5]\n",
            " [2.6 2.7 2.8]\n",
            " [2.9 3.  3.1]\n",
            " [3.2 3.3 3.4]\n",
            " [3.5 3.6 3.7]\n",
            " [3.8 3.9 4. ]\n",
            " [4.1 4.2 4.3]\n",
            " [4.4 4.5 4.6]\n",
            " [4.7 4.8 4.9]]\n",
            "\n",
            "c:\n",
            "[[-0.7 -0.6 -0.5]\n",
            " [-0.1  0.   0.1]\n",
            " [ 0.5  0.6  0.7]\n",
            " [ 1.1  1.2  1.3]\n",
            " [ 1.7  1.8  1.9]\n",
            " [ 2.3  2.4  2.5]\n",
            " [ 2.9  3.   3.1]\n",
            " [ 3.5  3.6  3.7]\n",
            " [ 4.1  4.2  4.3]\n",
            " [ 4.7  4.8  4.9]]\n",
            "\n",
            "d:\n",
            "[[-1.  -0.9 -0.8]\n",
            " [-0.4 -0.3 -0.2]\n",
            " [ 0.2  0.3  0.4]\n",
            " [ 0.8  0.9  1. ]\n",
            " [ 1.4  1.5  1.6]\n",
            " [ 2.   2.1  2.2]\n",
            " [ 2.6  2.7  2.8]\n",
            " [ 3.2  3.3  3.4]\n",
            " [ 3.8  3.9  4. ]\n",
            " [ 4.4  4.5  4.6]]\n",
            "\n",
            "X:\n",
            "[[-1.  -0.9 -0.8  2.   2.1  2.2 -0.7 -0.6 -0.5 -1.  -0.9 -0.8]\n",
            " [-0.7 -0.6 -0.5  2.3  2.4  2.5 -0.1  0.   0.1 -0.4 -0.3 -0.2]\n",
            " [-0.4 -0.3 -0.2  2.6  2.7  2.8  0.5  0.6  0.7  0.2  0.3  0.4]\n",
            " [-0.1  0.   0.1  2.9  3.   3.1  1.1  1.2  1.3  0.8  0.9  1. ]\n",
            " [ 0.2  0.3  0.4  3.2  3.3  3.4  1.7  1.8  1.9  1.4  1.5  1.6]\n",
            " [ 0.5  0.6  0.7  3.5  3.6  3.7  2.3  2.4  2.5  2.   2.1  2.2]\n",
            " [ 0.8  0.9  1.   3.8  3.9  4.   2.9  3.   3.1  2.6  2.7  2.8]\n",
            " [ 1.1  1.2  1.3  4.1  4.2  4.3  3.5  3.6  3.7  3.2  3.3  3.4]\n",
            " [ 1.4  1.5  1.6  4.4  4.5  4.6  4.1  4.2  4.3  3.8  3.9  4. ]\n",
            " [ 1.7  1.8  1.9  4.7  4.8  4.9  4.7  4.8  4.9  4.4  4.5  4.6]]\n",
            "\n",
            "Y:\n",
            "[[-4.89 -4.98 -5.07]\n",
            " [ 5.64  6.09  6.54]\n",
            " [16.17 17.16 18.15]\n",
            " [26.7  28.23 29.76]\n",
            " [37.23 39.3  41.37]\n",
            " [47.76 50.37 52.98]\n",
            " [58.29 61.44 64.59]\n",
            " [68.82 72.51 76.2 ]\n",
            " [79.35 83.58 87.81]\n",
            " [89.88 94.65 99.42]]\n",
            "\n",
            "col_mean:\n",
            "[0.90039249 0.90045668 0.90048008]\n",
            "\n"
          ]
        },
        {
          "output_type": "execute_result",
          "data": {
            "text/plain": [
              "2.7013292476222723"
            ]
          },
          "metadata": {},
          "execution_count": 147
        }
      ]
    }
  ],
  "metadata": {
    "kernelspec": {
      "display_name": "Python 3",
      "name": "python3"
    },
    "language_info": {
      "codemirror_mode": {
        "name": "ipython",
        "version": 3
      },
      "file_extension": ".py",
      "mimetype": "text/x-python",
      "name": "python",
      "nbconvert_exporter": "python",
      "pygments_lexer": "ipython3",
      "version": "3.7.6"
    },
    "colab": {
      "provenance": [],
      "include_colab_link": true
    }
  },
  "nbformat": 4,
  "nbformat_minor": 0
}